{
 "cells": [
  {
   "cell_type": "code",
   "execution_count": 27,
   "metadata": {
    "scrolled": true
   },
   "outputs": [
    {
     "name": "stdout",
     "output_type": "stream",
     "text": [
      "0.936137185747875\n"
     ]
    }
   ],
   "source": [
    "import re\n",
    "import matplotlib.pyplot as plt\n",
    "import os\n",
    "from sklearn.feature_extraction.text import CountVectorizer\n",
    "#from sklearn import cross_validation\n",
    "from sklearn import model_selection\n",
    "import os\n",
    "\n",
    "import numpy as np\n",
    "from sklearn.neural_network import MLPClassifier\n",
    "from sklearn import linear_model, datasets\n",
    "\n",
    "#\n",
    "def load_one_flle(filename):\n",
    "    x=[]\n",
    "    with open(filename) as f:\n",
    "        line=f.readline()\n",
    "        line=line.strip('\\n')\n",
    "    return line\n",
    "\n",
    "#加载ADFA-LD中的正常样本数据\n",
    "def load_adfa_training_files(rootdir):\n",
    "    x=[]\n",
    "    y=[]\n",
    "    list = os.listdir(rootdir)\n",
    "    for i in range(0, len(list)):\n",
    "        path = os.path.join(rootdir, list[i])\n",
    "        if os.path.isfile(path):\n",
    "            x.append(load_one_flle(path))\n",
    "            #print(\"Load file(%s)\" % path)\n",
    "            y.append(0)\n",
    "    return x,y\n",
    "\n",
    "#定义遍历目录下文件的函数\n",
    "def dirlist(path, allfile):\n",
    "    filelist = os.listdir(path)\n",
    "\n",
    "    for filename in filelist:\n",
    "        filepath = os.path.join(path, filename)\n",
    "        if os.path.isdir(filepath):\n",
    "            dirlist(filepath, allfile)\n",
    "        else:\n",
    "            allfile.append(filepath)\n",
    "    return allfile\n",
    "\n",
    "#从攻击数据集中筛选和Java溢出攻击相关的数据\n",
    "def load_adfa_java_files(rootdir):\n",
    "    x=[]\n",
    "    y=[]\n",
    "    allfile=dirlist(rootdir,[])\n",
    "   # print(allfile)\n",
    "    for file in allfile:\n",
    "        if re.match(r\"ADFA-LD/Attack_Data_Master/Java_Meterpreter_\\d+\\\\UAD-Java-Meterpreter*\",file):\n",
    "           # print(\"Load file(%s)\" % file)\n",
    "            x.append(load_one_flle(file))\n",
    "            y.append(1)#增加标签\n",
    "    return x,y\n",
    "\n",
    "\n",
    "\n",
    "if __name__ == '__main__':\n",
    "    #特征化\n",
    "\n",
    "    x1,y1=load_adfa_training_files(\"ADFA-LD/Training_Data_Master/\")\n",
    "    x2,y2=load_adfa_java_files(\"ADFA-LD/Attack_Data_Master/\")\n",
    "    #print(x1)\n",
    "    #print (\"x2:\",x2)\n",
    "\n",
    "    x=x1+x2\n",
    "    y=y1+y2\n",
    "    #print x\n",
    "    vectorizer = CountVectorizer(min_df=1)\n",
    "    x=vectorizer.fit_transform(x)\n",
    "    x=x.toarray()\n",
    "\n",
    "    mlp = MLPClassifier(hidden_layer_sizes=(150,50), max_iter=10, alpha=1e-4,\n",
    "                        solver='sgd', verbose=10, tol=1e-4, random_state=1,\n",
    "                        learning_rate_init=.1)\n",
    "\n",
    "    #训练样本\n",
    "    logreg = linear_model.LogisticRegression(solver='liblinear',C=1e5,max_iter=3000)#实例化逻辑回归算法，正则系数为1e5\n",
    "     #使用十折交叉验证\n",
    "    score=model_selection.cross_val_score(logreg, x, y, n_jobs=1, cv=10)\n",
    "    \n",
    "    print(np.mean(score))\n",
    "\n",
    "  "
   ]
  },
  {
   "cell_type": "markdown",
   "metadata": {},
   "source": [
    "sklearn 中的cross_val_score函数可以用来进行交叉验证，因此十分常用，这里介绍这个函数的参数含义。"
   ]
  },
  {
   "cell_type": "markdown",
   "metadata": {},
   "source": [
    "sklearn.cross_validation.cross_val_score(estimator, X, y=None, scoring=None,\n",
    "cv=None, n_jobs=1, verbose=0, fit_params=None, pre_dispatch=‘2*n_jobs’)"
   ]
  },
  {
   "cell_type": "markdown",
   "metadata": {},
   "source": [
    "estimator:估计方法对象(分类器)\n",
    "X：数据特征(Features)\n",
    "y：数据标签(Labels)\n",
    "soring：调用方法(包括accuracy和mean_squared_error等等)\n",
    "cv：几折交叉验证\n",
    "n_jobs：同时工作的cpu个数（-1代表全部）"
   ]
  }
 ],
 "metadata": {
  "kernelspec": {
   "display_name": "Python 3",
   "language": "python",
   "name": "python3"
  },
  "language_info": {
   "codemirror_mode": {
    "name": "ipython",
    "version": 3
   },
   "file_extension": ".py",
   "mimetype": "text/x-python",
   "name": "python",
   "nbconvert_exporter": "python",
   "pygments_lexer": "ipython3",
   "version": "3.7.3"
  },
  "toc": {
   "base_numbering": 1,
   "nav_menu": {},
   "number_sections": true,
   "sideBar": true,
   "skip_h1_title": false,
   "title_cell": "Table of Contents",
   "title_sidebar": "Contents",
   "toc_cell": false,
   "toc_position": {},
   "toc_section_display": true,
   "toc_window_display": false
  }
 },
 "nbformat": 4,
 "nbformat_minor": 2
}
